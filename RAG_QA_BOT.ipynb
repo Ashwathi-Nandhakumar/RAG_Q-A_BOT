{
 "cells": [
  {
   "cell_type": "code",
   "execution_count": 1,
   "id": "9840172d-2674-421a-9697-cd0e66a2a28d",
   "metadata": {},
   "outputs": [],
   "source": [
    "%%capture\n",
    "# Core LangChain (0.3.x ecosystem)\n",
    "!pip install --user \"langchain==0.3.*\" \n",
    "!pip install --user \"langchain-core==0.3.*\"\n",
    "# Groq integration\n",
    "!pip install --user \"langchain-groq==0.3.7\"\n",
    "# HuggingFace + Transformers (for free local embeddings)\n",
    "!pip install --user \"transformers==4.41.2\"\n",
    "!pip install --user \"huggingface-hub==0.23.4\"\n",
    "!pip install --user \"sentence-transformers==2.5.1\"\n",
    "# Vector store\n",
    "!pip install --user \"chromadb\"\n",
    "# Utilities\n",
    "!pip install --user \"wget==3.2\"\n",
    "# Torch (CPU build)\n",
    "!pip install --user --upgrade torch --index-url https://download.pytorch.org/whl/cpu\n",
    "\n"
   ]
  },
  {
   "cell_type": "code",
   "execution_count": 52,
   "id": "712da623-66aa-4a32-97c1-eb3e09d5c9f3",
   "metadata": {},
   "outputs": [],
   "source": [
    "#import all the modules and libraries needed\n",
    "def warn(*args, **kwargs):\n",
    "    pass\n",
    "import warnings\n",
    "warnings.warn = warn\n",
    "warnings.filterwarnings('ignore')\n",
    "\n",
    "from langchain_community.document_loaders import PyPDFLoader\n",
    "from langchain.text_splitter import RecursiveCharacterTextSplitter\n",
    "from langchain.vectorstores import Chroma\n",
    "from langchain_community.embeddings import HuggingFaceEmbeddings\n",
    "\n",
    "from langchain.chains import RetrievalQA, ConversationalRetrievalChain\n",
    "from langchain_core.prompts import PromptTemplate\n",
    "from langchain.memory import ConversationBufferMemory\n",
    "\n",
    "from langchain_groq import ChatGroq\n",
    "import os"
   ]
  },
  {
   "cell_type": "code",
   "execution_count": 53,
   "id": "0817a770-a247-4d01-b054-5b93128e196d",
   "metadata": {},
   "outputs": [],
   "source": [
    "#set the grop api as an enviornment variable\n",
    "os.environ[\"GROQ_API_KEY\"]=\"your-api-key\""
   ]
  },
  {
   "cell_type": "code",
   "execution_count": 63,
   "id": "d5e88d0c-c500-4c77-8679-bc877a4edd39",
   "metadata": {},
   "outputs": [
    {
     "name": "stdin",
     "output_type": "stream",
     "text": [
      "Enter the path of the pdf(must exist locally): C:\\Users\\Ashwa\\Downloads\\resumeeeee.pdf\n"
     ]
    }
   ],
   "source": [
    "#get the path of the pdf as input and check if the file exists locally or not\n",
    "pdf_path = input(\"Enter the path of the pdf(must exist locally):\").strip()\n",
    "if not os.path.exists(pdf_path):\n",
    "    raise FileNotFoundError(\"The path is incorrect/The file does not exist.\")"
   ]
  },
  {
   "cell_type": "code",
   "execution_count": 64,
   "id": "b1e7beaa-cdf6-412d-9cc3-e9bb6d0e9ae7",
   "metadata": {},
   "outputs": [],
   "source": [
    "#load the file, extract the text\n",
    "loader = PyPDFLoader(pdf_path)\n",
    "text = loader.load()"
   ]
  },
  {
   "cell_type": "code",
   "execution_count": 75,
   "id": "d25a770c-5135-4593-b86e-89b491ae9def",
   "metadata": {},
   "outputs": [],
   "source": [
    "splitter = RecursiveCharacterTextSplitter(chunk_size=800,\n",
    "                                          chunk_overlap = 100,\n",
    "                                          separators=[\"\\n\\n\", \"\\n\", \" \", \"\"])\n",
    "chunks = splitter.split_documents(text)"
   ]
  },
  {
   "cell_type": "code",
   "execution_count": 76,
   "id": "0a0b8689-1207-4ea0-a29c-1fcf5e261410",
   "metadata": {},
   "outputs": [
    {
     "name": "stdout",
     "output_type": "stream",
     "text": [
      "4\n"
     ]
    }
   ],
   "source": [
    "print(len(chunks))"
   ]
  },
  {
   "cell_type": "code",
   "execution_count": 77,
   "id": "b093a88f-4b66-4851-bb72-6d8581d581ee",
   "metadata": {},
   "outputs": [],
   "source": [
    "#vector embedding the document\n",
    "embedder = HuggingFaceEmbeddings()\n",
    "docsearch = Chroma.from_documents(chunks,embedder)"
   ]
  },
  {
   "cell_type": "code",
   "execution_count": 78,
   "id": "c707bac2-801c-4abe-aa0c-b0a71f70129f",
   "metadata": {},
   "outputs": [],
   "source": [
    "#create an llm instance and a retriever\n",
    "retriever = docsearch.as_retriever()\n",
    "llm = ChatGroq(model='llama3-8b-8192',temperature=0)"
   ]
  },
  {
   "cell_type": "code",
   "execution_count": 82,
   "id": "df671f80-3794-466a-9845-18790104f60d",
   "metadata": {},
   "outputs": [
    {
     "data": {
      "text/plain": [
       "'The projects mentioned in the resume are:\\n\\n1. AI Learning Website\\n2. User Churn Prediction\\n3. Stock Price Predictor\\n4. Movie Recommendation Engine'"
      ]
     },
     "execution_count": 82,
     "metadata": {},
     "output_type": "execute_result"
    }
   ],
   "source": [
    "#building a retrieval q&a chain\n",
    "qa = RetrievalQA.from_chain_type(llm=llm,chain_type=\"stuff\",retriever=retriever,return_source_documents=False)\n",
    "qa.invoke(\"What are the projects mentioned in the resume?\")[\"result\"]"
   ]
  },
  {
   "cell_type": "code",
   "execution_count": 83,
   "id": "4229c385-c9aa-4832-bf3a-b4c4d23fe111",
   "metadata": {},
   "outputs": [
    {
     "data": {
      "text/plain": [
       "'According to the provided document, the certifications listed on the resume are:\\n\\n1. Google Advanced Data Analytics Professional Certification\\n2. IBM AI Developer Professional Certification'"
      ]
     },
     "execution_count": 83,
     "metadata": {},
     "output_type": "execute_result"
    }
   ],
   "source": [
    "#to add memory and a prompt template\n",
    "template = \"\"\"Use the document and relevant past history to answer the question below. If you do not know the answer or are not sure, say I do not know. DO NOT HALLUCINATE.\n",
    "                {context}\n",
    "            Question: {question}\n",
    "            Answer: \"\"\"\n",
    "\n",
    "prompt = PromptTemplate.from_template(template)\n",
    "args = {\"prompt\":prompt}\n",
    "memory = ConversationBufferMemory(memory_key=\"chat_history\",return_messages=True)\n",
    "QA = ConversationalRetrievalChain.from_llm(llm = llm,\n",
    "                                          memory = memory,\n",
    "                                          retriever=retriever,\n",
    "                                          return_source_documents=False,\n",
    "                                          chain_type=\"stuff\",\n",
    "                                            get_chat_history = lambda h:h,\n",
    "                                          combine_docs_chain_kwargs=args)\n",
    "\n",
    "QA.invoke({\"question\":\"What are the certifications listed on the resume?\"})[\"answer\"]"
   ]
  },
  {
   "cell_type": "code",
   "execution_count": 84,
   "id": "ab69c89c-371f-48ea-8f81-b9861b605330",
   "metadata": {},
   "outputs": [],
   "source": [
    "#creating an agent\n",
    "\n",
    "def QA_BOT():\n",
    "    memory = ConversationBufferMemory(memory_key=\"chat_history\",return_messages=True)\n",
    "    QA = ConversationalRetrievalChain.from_llm(llm = llm,\n",
    "                                          memory = memory,\n",
    "                                          retriever=retriever,\n",
    "                                          return_source_documents=False,\n",
    "                                          chain_type=\"stuff\",\n",
    "                                            get_chat_history = lambda h:h,\n",
    "                                          combine_docs_chain_kwargs=args)\n",
    "    while True:\n",
    "        query = input(\"Question:\")\n",
    "        if query.lower() in ('exit','quit','bye'):\n",
    "            break\n",
    "\n",
    "        result = QA.invoke({\"question\":query})\n",
    "        print(result[\"answer\"])\n"
   ]
  },
  {
   "cell_type": "code",
   "execution_count": 85,
   "id": "89a997c8-df8e-4e47-a25a-9fdb2a7862ef",
   "metadata": {},
   "outputs": [
    {
     "name": "stdin",
     "output_type": "stream",
     "text": [
      "Question: Give me a summary of the projects and skills listed on the resume\n"
     ]
    },
    {
     "name": "stdout",
     "output_type": "stream",
     "text": [
      "Based on the provided document, here is a summary of the projects and skills listed on the resume:\n",
      "\n",
      "**Projects:**\n",
      "\n",
      "1. AI Learning Website: A platform with a chatbot, PDF/YouTube summarizers, and flashcard generation, built using Flask and SQLite.\n",
      "2. User Churn Prediction: A machine learning model that predicted user churn with 98% accuracy using 10K+ user records, featuring feature engineering, exploratory data analysis, and model comparison.\n",
      "3. Stock Price Predictor: A time-series model that forecasted trends using LSTM with real-time yFinance data, showcasing deep learning applications in financial domains.\n",
      "4. Movie Recommendation Engine: A hybrid recommender that combined content-based filtering with simple collaborative logic, handling sparse data and cold-start cases.\n",
      "\n",
      "**Skills:**\n",
      "\n",
      "1. Programming languages: Python\n",
      "2. Deep Learning frameworks: TensorFlow\n",
      "3. Data Science libraries: Pandas, NumPy, Matplotlib, Seaborn, Scikit-learn\n",
      "4. Web development: Flask, Streamlit, Gradio\n",
      "5. Natural Language Processing: LangChain\n",
      "6. Data visualization: Matplotlib, Seaborn\n",
      "7. Machine Learning: Scikit-learn\n",
      "8. Certifications: Google Advanced Data Analytics Professional Certification, IBM AI Developer Professional Certification\n"
     ]
    },
    {
     "name": "stdin",
     "output_type": "stream",
     "text": [
      "Question: exit\n"
     ]
    }
   ],
   "source": [
    "QA_BOT()"
   ]
  },
  {
   "cell_type": "code",
   "execution_count": 86,
   "id": "47cd5e40-3ac9-472f-9a7b-ae3999fa54d8",
   "metadata": {},
   "outputs": [
    {
     "name": "stdout",
     "output_type": "stream",
     "text": [
      "[HumanMessage(content='What are the certifications listed on the resume?', additional_kwargs={}, response_metadata={}), AIMessage(content='According to the provided document, the certifications listed on the resume are:\\n\\n1. Google Advanced Data Analytics Professional Certification\\n2. IBM AI Developer Professional Certification', additional_kwargs={}, response_metadata={})]\n"
     ]
    }
   ],
   "source": [
    "print(memory.buffer)"
   ]
  }
 ],
 "metadata": {
  "kernelspec": {
   "display_name": "Python 3 (ipykernel)",
   "language": "python",
   "name": "python3"
  },
  "language_info": {
   "codemirror_mode": {
    "name": "ipython",
    "version": 3
   },
   "file_extension": ".py",
   "mimetype": "text/x-python",
   "name": "python",
   "nbconvert_exporter": "python",
   "pygments_lexer": "ipython3",
   "version": "3.11.5"
  }
 },
 "nbformat": 4,
 "nbformat_minor": 5
}
